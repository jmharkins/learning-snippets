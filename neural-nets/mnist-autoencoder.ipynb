{
 "cells": [
  {
   "cell_type": "markdown",
   "metadata": {},
   "source": [
    "# Autoencoder for MNIST:\n",
    "This notebook constructs a 3-layer denoising autoencoder to ecnode MNIST data based on exercise 8 in [Hands-on Machine Learning with Scikit-Learn and TensorFlow](http://shop.oreilly.com/product/0636920052289.do) chapter 15."
   ]
  },
  {
   "cell_type": "code",
   "execution_count": 1,
   "metadata": {
    "collapsed": true
   },
   "outputs": [],
   "source": [
    "import tensorflow as tf\n",
    "import numpy as np\n",
    "from tensorflow.examples.tutorials.mnist import input_data"
   ]
  },
  {
   "cell_type": "code",
   "execution_count": 40,
   "metadata": {},
   "outputs": [
    {
     "name": "stdout",
     "output_type": "stream",
     "text": [
      "Populating the interactive namespace from numpy and matplotlib\n"
     ]
    }
   ],
   "source": [
    "%pylab inline"
   ]
  },
  {
   "cell_type": "markdown",
   "metadata": {},
   "source": [
    "### Read Data"
   ]
  },
  {
   "cell_type": "code",
   "execution_count": 2,
   "metadata": {},
   "outputs": [
    {
     "name": "stdout",
     "output_type": "stream",
     "text": [
      "Extracting /tmp/data/train-images-idx3-ubyte.gz\n",
      "Extracting /tmp/data/train-labels-idx1-ubyte.gz\n",
      "Extracting /tmp/data/t10k-images-idx3-ubyte.gz\n",
      "Extracting /tmp/data/t10k-labels-idx1-ubyte.gz\n"
     ]
    }
   ],
   "source": [
    "mnist = input_data.read_data_sets(\"/tmp/data/\")"
   ]
  },
  {
   "cell_type": "code",
   "execution_count": 3,
   "metadata": {
    "collapsed": true
   },
   "outputs": [],
   "source": [
    "X_train = mnist.train.images\n",
    "y_train = mnist.train.images\n",
    "X_valid = mnist.validation.images\n",
    "y_valid = mnist.validation.images\n",
    "X_test = mnist.test.images\n",
    "y_test = mnist.test.images"
   ]
  },
  {
   "cell_type": "code",
   "execution_count": 4,
   "metadata": {},
   "outputs": [
    {
     "name": "stdout",
     "output_type": "stream",
     "text": [
      "55000 5000 10000\n"
     ]
    }
   ],
   "source": [
    "print len(X_train), len(X_valid), len(X_test)"
   ]
  },
  {
   "cell_type": "markdown",
   "metadata": {},
   "source": [
    "### Construct Autoencoder"
   ]
  },
  {
   "cell_type": "markdown",
   "metadata": {},
   "source": [
    "**Hyperparameters:**  \n",
    "Shape of inputs/outputs, neurons for hidden layers, encoding dimension, l2 regularization weight, and noise level for adding to inputs"
   ]
  },
  {
   "cell_type": "code",
   "execution_count": 26,
   "metadata": {
    "collapsed": true
   },
   "outputs": [],
   "source": [
    "n_inputs = 28*28  # MNIST\n",
    "n_outputs = n_inputs\n",
    "n_neur = [250]\n",
    "encode_dim = 100\n",
    "noise_level = 1.0\n",
    "l2_reg = 0.0001"
   ]
  },
  {
   "cell_type": "code",
   "execution_count": 27,
   "metadata": {
    "collapsed": true
   },
   "outputs": [],
   "source": [
    "tf.reset_default_graph()"
   ]
  },
  {
   "cell_type": "markdown",
   "metadata": {},
   "source": [
    "**Autoencoding strcuture**"
   ]
  },
  {
   "cell_type": "code",
   "execution_count": 28,
   "metadata": {},
   "outputs": [],
   "source": [
    "X = tf.placeholder(shape=[None, n_inputs], dtype=tf.float32, name='X')\n",
    "y = tf.placeholder(shape=None, dtype=tf.int64, name='X')\n",
    "\n",
    "initializer = tf.contrib.layers.variance_scaling_initializer()\n",
    "regularizer = tf.contrib.layers.l2_regularizer(l2_reg)\n",
    "\n",
    "X_noised = X + noise_level * tf.random_normal(shape=tf.shape(X))\n",
    "hidden_activations = [tf.nn.relu]\n",
    "encode_activation = tf.nn.relu\n",
    "\n",
    "# - Parameters\n",
    "# --- Encoding\n",
    "# encoding hidden layer params\n",
    "W_input_hidden = tf.Variable(initial_value=initializer([n_inputs, n_neur[0]]))\n",
    "b_input_hidden = tf.Variable(initial_value=tf.zeros(n_neur[0]))\n",
    "# encoding layer params\n",
    "W_hidden_encode = tf.Variable(initial_value=initializer([n_neur[0], encode_dim]))\n",
    "b_hidden_encode = tf.Variable(initial_value=tf.zeros(encode_dim))\n",
    "# --- Decoding\n",
    "# hidden decoding layer params\n",
    "W_encode_hidden = tf.transpose(W_hidden_encode)\n",
    "b_encode_hidden = tf.Variable(initial_value=tf.zeros(n_neur[0]))\n",
    "# output decoding layer params\n",
    "W_hidden_output = tf.transpose(W_input_hidden)\n",
    "b_hidden_output = tf.Variable(initial_value=tf.zeros(n_outputs))\n",
    "\n",
    "# - Layers\n",
    "# --- Encoding\n",
    "# hidden layer\n",
    "hidden_encode_fc = hidden_activations[0](tf.matmul(X_noised, W_input_hidden) + b_input_hidden)\n",
    "# encoding layer\n",
    "encode_fc = encode_activation(tf.matmul(hidden_encode_fc, W_hidden_encode) + b_hidden_encode)\n",
    "# --- Decoding\n",
    "# hidden decoding layer\n",
    "hidden_decode_fc = hidden_activations[0](tf.matmul(encode_fc, W_encode_hidden) + b_encode_hidden)\n",
    "# output decoding layer\n",
    "output_fc = tf.matmul(hidden_decode_fc, W_hidden_output) + b_hidden_output"
   ]
  },
  {
   "cell_type": "code",
   "execution_count": 30,
   "metadata": {},
   "outputs": [],
   "source": [
    "learning_rate = 0.01\n",
    "\n",
    "reconstruction_loss = tf.reduce_mean(tf.square(output_fc - X))\n",
    "reg_loss = regularizer(W_input_hidden) + regularizer(W_hidden_encode)\n",
    "loss = reconstruction_loss + reg_loss\n",
    "optimizer = tf.train.AdamOptimizer(learning_rate)\n",
    "training_op = optimizer.minimize(loss)"
   ]
  },
  {
   "cell_type": "markdown",
   "metadata": {},
   "source": [
    "**Training**   \n",
    "This training procedure implements early stopping to avoid overfitting. The stopping scheme works as follows: store the best loss value as a new one is encountered, if this value has not changed in 8 iterations, preserve the model that achieved this loss and stop training."
   ]
  },
  {
   "cell_type": "code",
   "execution_count": 53,
   "metadata": {
    "collapsed": true
   },
   "outputs": [],
   "source": [
    "n_epochs = 50\n",
    "saver = tf.train.Saver()\n",
    "batch_size = 500\n",
    "stopping_threshold = 8\n",
    "iter_since_best = 0\n",
    "best_loss_val = float('inf')"
   ]
  },
  {
   "cell_type": "code",
   "execution_count": 54,
   "metadata": {
    "collapsed": true
   },
   "outputs": [],
   "source": [
    "n_samples = X_train.shape[0]"
   ]
  },
  {
   "cell_type": "code",
   "execution_count": 55,
   "metadata": {},
   "outputs": [
    {
     "name": "stdout",
     "output_type": "stream",
     "text": [
      "(0, 'Training loss (MSE):', 0.073417775, 'Testing loss (MSE):', 0.073417775, 'Iterations since best', 0)\n",
      "(1, 'Training loss (MSE):', 0.050058227, 'Testing loss (MSE):', 0.050058227, 'Iterations since best', 1)\n",
      "(2, 'Training loss (MSE):', 0.043920703, 'Testing loss (MSE):', 0.043920703, 'Iterations since best', 1)\n",
      "(3, 'Training loss (MSE):', 0.041308708, 'Testing loss (MSE):', 0.041308708, 'Iterations since best', 1)\n",
      "(4, 'Training loss (MSE):', 0.040161721, 'Testing loss (MSE):', 0.040161721, 'Iterations since best', 1)\n",
      "(5, 'Training loss (MSE):', 0.039699826, 'Testing loss (MSE):', 0.039699826, 'Iterations since best', 1)\n",
      "(6, 'Training loss (MSE):', 0.038752869, 'Testing loss (MSE):', 0.038752869, 'Iterations since best', 1)\n",
      "(7, 'Training loss (MSE):', 0.038103621, 'Testing loss (MSE):', 0.038103621, 'Iterations since best', 1)\n",
      "(8, 'Training loss (MSE):', 0.038386129, 'Testing loss (MSE):', 0.038386129, 'Iterations since best', 1)\n",
      "(9, 'Training loss (MSE):', 0.038309813, 'Testing loss (MSE):', 0.038309813, 'Iterations since best', 2)\n",
      "(10, 'Training loss (MSE):', 0.03817242, 'Testing loss (MSE):', 0.03817242, 'Iterations since best', 3)\n",
      "(11, 'Training loss (MSE):', 0.038099907, 'Testing loss (MSE):', 0.038099907, 'Iterations since best', 4)\n",
      "(12, 'Training loss (MSE):', 0.038164951, 'Testing loss (MSE):', 0.038164951, 'Iterations since best', 1)\n",
      "(13, 'Training loss (MSE):', 0.038033262, 'Testing loss (MSE):', 0.038033262, 'Iterations since best', 2)\n",
      "(14, 'Training loss (MSE):', 0.037794724, 'Testing loss (MSE):', 0.037794724, 'Iterations since best', 1)\n",
      "(15, 'Training loss (MSE):', 0.037909973, 'Testing loss (MSE):', 0.037909973, 'Iterations since best', 1)\n",
      "(16, 'Training loss (MSE):', 0.038007561, 'Testing loss (MSE):', 0.038007561, 'Iterations since best', 2)\n",
      "(17, 'Training loss (MSE):', 0.038078152, 'Testing loss (MSE):', 0.038078152, 'Iterations since best', 3)\n",
      "(18, 'Training loss (MSE):', 0.038256235, 'Testing loss (MSE):', 0.038256235, 'Iterations since best', 4)\n",
      "(19, 'Training loss (MSE):', 0.037845302, 'Testing loss (MSE):', 0.037845302, 'Iterations since best', 5)\n",
      "(20, 'Training loss (MSE):', 0.038125157, 'Testing loss (MSE):', 0.038125157, 'Iterations since best', 6)\n",
      "(21, 'Training loss (MSE):', 0.037992861, 'Testing loss (MSE):', 0.037992861, 'Iterations since best', 7)\n",
      "(22, 'Training loss (MSE):', 0.037968822, 'Testing loss (MSE):', 0.037968822, 'Iterations since best', 8)\n",
      "INFO:tensorflow:Restoring parameters from ./my_mnist_autoencoder.ckpt\n",
      "Final test loss: 0.04%\n"
     ]
    }
   ],
   "source": [
    "init = tf.global_variables_initializer()\n",
    "with tf.Session() as sess:\n",
    "    sess.run(init)\n",
    "    for epoch in range(n_epochs):\n",
    "        rand_idx = np.random.permutation(np.arange(n_samples))\n",
    "        for iteration in range(n_samples // batch_size):\n",
    "            batch_idx = rand_idx[(iteration*batch_size):((iteration+1)*batch_size)]\n",
    "            X_batch = X_train[batch_idx,:]\n",
    "            y_batch = y_train[batch_idx]\n",
    "            sess.run(training_op, feed_dict={X: X_batch, y: y_batch})\n",
    "        loss_val = sess.run(loss, feed_dict={X: X_valid, y: y_valid})\n",
    "        print(epoch, \"Training loss (MSE):\", loss_val, \"Testing loss (MSE):\", loss_val, \"Iterations since best\", iter_since_best)\n",
    "        if loss_val < best_loss_val:\n",
    "            save_path = saver.save(sess, \"./my_mnist_autoencoder.ckpt\")\n",
    "            best_loss_val = loss_val\n",
    "            iter_since_best = 0\n",
    "        if iter_since_best >= stopping_threshold:\n",
    "            break\n",
    "        iter_since_best +=1\n",
    "with tf.Session() as sess:\n",
    "    saver.restore(sess, \"./my_mnist_autoencoder.ckpt\")\n",
    "    loss_test = loss.eval(feed_dict={X: X_test, y: y_test})\n",
    "    print(\"Final test loss: {:.5f}%\".format(loss_test))"
   ]
  },
  {
   "cell_type": "markdown",
   "metadata": {},
   "source": [
    "### Visualizing decoding of test data based on fit autoencoder"
   ]
  },
  {
   "cell_type": "code",
   "execution_count": 57,
   "metadata": {
    "collapsed": true
   },
   "outputs": [],
   "source": [
    "n_test_digits = 10\n",
    "X_test_vis = mnist.test.images[:n_test_digits]"
   ]
  },
  {
   "cell_type": "code",
   "execution_count": 60,
   "metadata": {},
   "outputs": [
    {
     "name": "stdout",
     "output_type": "stream",
     "text": [
      "INFO:tensorflow:Restoring parameters from ./my_mnist_autoencoder.ckpt\n"
     ]
    },
    {
     "data": {
      "image/png": "[encoded data removed]",
      "text/plain": [
       "<Figure size 360x720 with 2 Axes>"
      ]
     },
     "metadata": {},
     "output_type": "display_data"
    },
    {
     "data": {
      "image/png": "[encoded data removed]",
      "text/plain": [
       "<Figure size 360x720 with 2 Axes>"
      ]
     },
     "metadata": {},
     "output_type": "display_data"
    },
    {
     "data": {
      "image/png": "[encoded data removed]",
      "text/plain": [
       "<Figure size 360x720 with 2 Axes>"
      ]
     },
     "metadata": {},
     "output_type": "display_data"
    },
    {
     "data": {
      "image/png": "[encoded data removed]",
      "text/plain": [
       "<Figure size 360x720 with 2 Axes>"
      ]
     },
     "metadata": {},
     "output_type": "display_data"
    },
    {
     "data": {
      "image/png": "[encoded data removed]",
      "text/plain": [
       "<Figure size 360x720 with 2 Axes>"
      ]
     },
     "metadata": {},
     "output_type": "display_data"
    },
    {
     "data": {
      "image/png": "[encoded data removed]",
      "text/plain": [
       "<Figure size 360x720 with 2 Axes>"
      ]
     },
     "metadata": {},
     "output_type": "display_data"
    },
    {
     "data": {
      "image/png": "[encoded data removed]",
      "text/plain": [
       "<Figure size 360x720 with 2 Axes>"
      ]
     },
     "metadata": {},
     "output_type": "display_data"
    },
    {
     "data": {
      "image/png": "[encoded data removed]",
      "text/plain": [
       "<Figure size 360x720 with 2 Axes>"
      ]
     },
     "metadata": {},
     "output_type": "display_data"
    },
    {
     "data": {
      "image/png": "[encoded data removed]",
      "text/plain": [
       "<Figure size 360x720 with 2 Axes>"
      ]
     },
     "metadata": {},
     "output_type": "display_data"
    },
    {
     "data": {
      "image/png": "[encoded data removed]",
      "text/plain": [
       "<Figure size 360x720 with 2 Axes>"
      ]
     },
     "metadata": {},
     "output_type": "display_data"
    }
   ],
   "source": [
    "with tf.Session() as sess:\n",
    "    saver.restore(sess, \"./my_mnist_autoencoder.ckpt\")\n",
    "    outputs_val = output_fc.eval(feed_dict={X: X_test_vis})\n",
    "\n",
    "def plot_image(image, shape=[28, 28]):\n",
    "    plt.imshow(image.reshape(shape), cmap=\"Greys\", interpolation=\"nearest\")\n",
    "    plt.axis(\"off\")\n",
    "\n",
    "for digit_index in range(n_test_digits):\n",
    "    plt.figure(figsize=(5,10))\n",
    "    plt.subplot(n_test_digits, 2, digit_index * 2 + 1)\n",
    "    plot_image(X_test[digit_index])\n",
    "    plt.subplot(n_test_digits, 2, digit_index * 2 + 2)\n",
    "    plot_image(outputs_val[digit_index])"
   ]
  },
  {
   "cell_type": "code",
   "execution_count": null,
   "metadata": {
    "collapsed": true
   },
   "outputs": [],
   "source": []
  }
 ],
 "metadata": {
  "kernelspec": {
   "display_name": "Python [conda env:neural-nets]",
   "language": "python",
   "name": "conda-env-neural-nets-py"
  },
  "language_info": {
   "codemirror_mode": {
    "name": "ipython",
    "version": 2
   },
   "file_extension": ".py",
   "mimetype": "text/x-python",
   "name": "python",
   "nbconvert_exporter": "python",
   "pygments_lexer": "ipython2",
   "version": "2.7.13"
  }
 },
 "nbformat": 4,
 "nbformat_minor": 2
}
