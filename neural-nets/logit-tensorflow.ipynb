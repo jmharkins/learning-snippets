{
 "cells": [
  {
   "cell_type": "markdown",
   "metadata": {},
   "source": [
    "# Logistic Regression with TF\n",
    "Implemented as a partial solution to exercise in chapter 9 of Aurélien Géron's book, [Hands-On Machine Learning with Scikit-Learn and TensorFlow](http://shop.oreilly.com/product/0636920052289.do)"
   ]
  },
  {
   "cell_type": "code",
   "execution_count": 1,
   "metadata": {},
   "outputs": [],
   "source": [
    "import tensorflow as tf\n",
    "from sklearn.datasets import make_moons\n",
    "import numpy as np"
   ]
  },
  {
   "cell_type": "code",
   "execution_count": 2,
   "metadata": {},
   "outputs": [
    {
     "name": "stdout",
     "output_type": "stream",
     "text": [
      "Populating the interactive namespace from numpy and matplotlib\n"
     ]
    }
   ],
   "source": [
    "%pylab inline"
   ]
  },
  {
   "cell_type": "markdown",
   "metadata": {},
   "source": [
    "Load data using scikit learn's [\"moons\" toy dataset](http://scikit-learn.org/stable/modules/generated/sklearn.datasets.make_moons.html#sklearn.datasets.make_moons)"
   ]
  },
  {
   "cell_type": "code",
   "execution_count": 3,
   "metadata": {},
   "outputs": [],
   "source": [
    "X_raw, y_raw = make_moons(n_samples=250, noise=0.1)"
   ]
  },
  {
   "cell_type": "markdown",
   "metadata": {},
   "source": [
    "store shape of samples"
   ]
  },
  {
   "cell_type": "code",
   "execution_count": 4,
   "metadata": {},
   "outputs": [],
   "source": [
    "m, n = X_raw.shape"
   ]
  },
  {
   "cell_type": "markdown",
   "metadata": {},
   "source": [
    "### Plot data"
   ]
  },
  {
   "cell_type": "code",
   "execution_count": 5,
   "metadata": {},
   "outputs": [
    {
     "data": {
      "text/plain": [
       "<matplotlib.legend.Legend at 0x1110eb2d0>"
      ]
     },
     "execution_count": 5,
     "metadata": {},
     "output_type": "execute_result"
    },
    {
     "data": {
      "image/png": "[encoded data removed]",
      "text/plain": [
       "<Figure size 432x288 with 1 Axes>"
      ]
     },
     "metadata": {},
     "output_type": "display_data"
    }
   ],
   "source": [
    "plt.plot(X_raw[y_raw == 1, 0], X_raw[y_raw == 1, 1], 'go', label=\"Positive\")\n",
    "plt.plot(X_raw[y_raw == 0, 0], X_raw[y_raw == 0, 1], 'r^', label=\"Negative\")\n",
    "plt.legend()\n",
    "\n"
   ]
  },
  {
   "cell_type": "markdown",
   "metadata": {},
   "source": [
    "Add a constant to the input data"
   ]
  },
  {
   "cell_type": "code",
   "execution_count": 6,
   "metadata": {},
   "outputs": [],
   "source": [
    "X_plus_const = np.c_[np.ones((m, 1)), X_raw]"
   ]
  },
  {
   "cell_type": "markdown",
   "metadata": {},
   "source": [
    "Logistic regression implementation"
   ]
  },
  {
   "cell_type": "code",
   "execution_count": 22,
   "metadata": {},
   "outputs": [],
   "source": [
    "n_epochs = 1000\n",
    "eta = 0.01\n",
    "\n",
    "X = tf.constant(X_plus_const, dtype=tf.float32, name='X')\n",
    "y = tf.constant(y_raw.reshape(-1,1), dtype= tf.float32, name='y')\n",
    "\n",
    "theta = tf.Variable(tf.random_uniform([n + 1, 1], -1.0, 1.0), name=\"theta\")\n",
    "z = tf.matmul(X, theta, name='z')\n",
    "p_hat = tf.sigmoid(z, 'y_pred')\n",
    "\n",
    "# log loss function, computed across all samples\n",
    "loss = -tf.reduce_mean(y * tf.log(p_hat) + (1-y) * tf.log(1-p_hat))\n",
    "\n",
    "optimizer = tf.train.GradientDescentOptimizer(learning_rate=eta)\n",
    "training_op = optimizer.minimize(loss)"
   ]
  },
  {
   "cell_type": "markdown",
   "metadata": {},
   "source": [
    "Run regression using gradient descent"
   ]
  },
  {
   "cell_type": "code",
   "execution_count": 26,
   "metadata": {},
   "outputs": [
    {
     "name": "stdout",
     "output_type": "stream",
     "text": [
      "('Epoch', 0, 'Cost =', 0.59237146)\n",
      "('Epoch', 100, 'Cost =', 0.53399628)\n",
      "('Epoch', 200, 'Cost =', 0.49067658)\n",
      "('Epoch', 300, 'Cost =', 0.45805612)\n",
      "('Epoch', 400, 'Cost =', 0.43305239)\n",
      "('Epoch', 500, 'Cost =', 0.41352621)\n",
      "('Epoch', 600, 'Cost =', 0.39799726)\n",
      "('Epoch', 700, 'Cost =', 0.38543347)\n",
      "('Epoch', 800, 'Cost =', 0.37510633)\n",
      "('Epoch', 900, 'Cost =', 0.36649394)\n"
     ]
    }
   ],
   "source": [
    "init = tf.global_variables_initializer()\n",
    "with tf.Session() as sess:\n",
    "    sess.run(init)\n",
    "\n",
    "    for epoch in range(n_epochs):\n",
    "        if epoch % 100 == 0:\n",
    "            print(\"Epoch\", epoch, \"Cost =\", loss.eval())\n",
    "        sess.run(training_op)\n",
    "    \n",
    "    best_theta = theta.eval()\n",
    "    p_hat_vec = p_hat.eval()"
   ]
  }
 ],
 "metadata": {
  "kernelspec": {
   "display_name": "Python [conda env:neural-nets]",
   "language": "python",
   "name": "conda-env-neural-nets-py"
  }
 },
 "nbformat": 4,
 "nbformat_minor": 2
}
